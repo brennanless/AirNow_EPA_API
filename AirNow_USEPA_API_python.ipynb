{
 "cells": [
  {
   "cell_type": "markdown",
   "metadata": {},
   "source": [
    "#API calls to U.S. EPA AirNow Database\n",
    "\n",
    "The web services part of the API is available here: https://docs.airnowapi.org/webservices. API calls can include:\n",
    "* Forecasts\n",
    "+ Observations by monitoring site\n",
    "+ Current observations by reporting area\n",
    "+ Historical observation by reporting area\n",
    "\n",
    "These API URL calls were generated using the Query Tool (https://docs.airnowapi.org/CurrentObservationsByZip/query)"
   ]
  },
  {
   "cell_type": "code",
   "execution_count": 8,
   "metadata": {
    "collapsed": false
   },
   "outputs": [
    {
     "name": "stdout",
     "output_type": "stream",
     "text": [
      "[{u'DateObserved': u'2016-02-11 ', u'Category': {u'Number': 1, u'Name': u'Good'}, u'AQI': 2, u'Longitude': -122.27, u'HourObserved': 9, u'StateCode': u'CA', u'ParameterName': u'O3', u'Latitude': 37.8, u'LocalTimeZone': u'PST', u'ReportingArea': u'Oakland'}, {u'DateObserved': u'2016-02-11 ', u'Category': {u'Number': 2, u'Name': u'Moderate'}, u'AQI': 72, u'Longitude': -122.27, u'HourObserved': 9, u'StateCode': u'CA', u'ParameterName': u'PM2.5', u'Latitude': 37.8, u'LocalTimeZone': u'PST', u'ReportingArea': u'Oakland'}]\n"
     ]
    }
   ],
   "source": [
    "import requests\n",
    "\n",
    "#Current AQI value by zip code\n",
    "data = requests.get(\"http://www.airnowapi.org/aq/observation/zipCode/current/?format=application/json&zipCode=94577&distance=25&API_KEY=6B775717-4A4F-46C1-A781-04A531D11793\")\n",
    "data_json = data.json()\n",
    "print data_json"
   ]
  },
  {
   "cell_type": "code",
   "execution_count": 14,
   "metadata": {
    "collapsed": false,
    "scrolled": true
   },
   "outputs": [
    {
     "name": "stdout",
     "output_type": "stream",
     "text": [
      "[{u'Category': 1, u'UTC': u'2016-02-11T18:00', u'AgencyName': u'North Coast Unified Air Quality Management District', u'SiteName': u'Jacobs', u'AQI': 2, u'Value': 2.0, u'FullAQSCode': u'060231004', u'Longitude': -124.177498, u'Latitude': 40.776943, u'IntlAQSCode': u'840060231004', u'Parameter': u'NO2', u'Unit': u'PPB'}, {u'Category': 1, u'UTC': u'2016-02-11T18:00', u'AgencyName': u'North Coast Unified Air Quality Management District', u'SiteName': u'Jacobs', u'AQI': 1, u'Value': 1.0, u'FullAQSCode': u'060231004', u'Longitude': -124.177498, u'Latitude': 40.776943, u'IntlAQSCode': u'840060231004', u'Parameter': u'SO2', u'Unit': u'PPB'}, {u'Category': 0, u'UTC': u'2016-02-11T18:00', u'AgencyName': u'North Coast Unified Air Quality Management District', u'SiteName': u'Jacobs', u'AQI': -999, u'Value': 0.35, u'FullAQSCode': u'060231004', u'Longitude': -124.177498, u'Latitude': 40.776943, u'IntlAQSCode': u'840060231004', u'Parameter': u'CO', u'Unit': u'PPM'}, {u'Category': 1, u'UTC': u'2016-02-11T18:00', u'AgencyName': u'Shasta County Air Quality Management District', u'SiteName': u'Shasta Lake City', u'AQI': 19, u'Value': 21.0, u'FullAQSCode': u'060890009', u'Longitude': -122.4024, u'Latitude': 40.6894, u'IntlAQSCode': u'840060890009', u'Parameter': u'OZONE', u'Unit': u'PPB'}, {u'Category': 1, u'UTC': u'2016-02-11T18:00', u'AgencyName': u'Shasta County Air Quality Management District', u'SiteName': u'Redding', u'AQI': 9, u'Value': 10.0, u'FullAQSCode': u'060890004', u'Longitude': -122.3792, u'Latitude': 40.5497, u'IntlAQSCode': u'840060890004', u'Parameter': u'OZONE', u'Unit': u'PPB'}, {u'Category': 3, u'UTC': u'2016-02-11T18:00', u'AgencyName': u'Shasta County Air Quality Management District', u'SiteName': u'Anderson', u'AQI': 104, u'Value': 36.7, u'FullAQSCode': u'060890007', u'Longitude': -122.2978, u'Latitude': 40.4531, u'IntlAQSCode': u'840060890007', u'Parameter': u'PM2.5', u'Unit': u'UG/M3'}, {u'Category': 1, u'UTC': u'2016-02-11T18:00', u'AgencyName': u'Shasta County Air Quality Management District', u'SiteName': u'Anderson', u'AQI': 1, u'Value': 1.0, u'FullAQSCode': u'060890007', u'Longitude': -122.2978, u'Latitude': 40.4531, u'IntlAQSCode': u'840060890007', u'Parameter': u'OZONE', u'Unit': u'PPB'}, {u'Category': 1, u'UTC': u'2016-02-11T18:00', u'AgencyName': u'Tehama County Air Pollution Control District', u'SiteName': u'Red Bluff - Walnut office', u'AQI': 37, u'Value': 8.8, u'FullAQSCode': u'061030007', u'Longitude': -122.255667, u'Latitude': 40.170917, u'IntlAQSCode': u'840061030007', u'Parameter': u'PM2.5', u'Unit': u'UG/M3'}, {u'Category': 1, u'UTC': u'2016-02-11T18:00', u'AgencyName': u'Tehama County Air Pollution Control District', u'SiteName': u'Red Bluff - Walnut office', u'AQI': 6, u'Value': 7.0, u'FullAQSCode': u'061030007', u'Longitude': -122.255667, u'Latitude': 40.170917, u'IntlAQSCode': u'840061030007', u'Parameter': u'OZONE', u'Unit': u'PPB'}, {u'Category': 1, u'UTC': u'2016-02-11T18:00', u'AgencyName': u'California Air Resources Board', u'SiteName': u'Willows-Colusa', u'AQI': 19, u'Value': 21.0, u'FullAQSCode': u'060210003', u'Longitude': -122.190833, u'Latitude': 39.533889, u'IntlAQSCode': u'840060210003', u'Parameter': u'PM10', u'Unit': u'UG/M3'}, {u'Category': 1, u'UTC': u'2016-02-11T19:00', u'AgencyName': u'North Coast Unified Air Quality Management District', u'SiteName': u'Jacobs', u'AQI': 5, u'Value': 5.0, u'FullAQSCode': u'060231004', u'Longitude': -124.177498, u'Latitude': 40.776943, u'IntlAQSCode': u'840060231004', u'Parameter': u'NO2', u'Unit': u'PPB'}, {u'Category': 1, u'UTC': u'2016-02-11T19:00', u'AgencyName': u'North Coast Unified Air Quality Management District', u'SiteName': u'Jacobs', u'AQI': 1, u'Value': 1.0, u'FullAQSCode': u'060231004', u'Longitude': -124.177498, u'Latitude': 40.776943, u'IntlAQSCode': u'840060231004', u'Parameter': u'SO2', u'Unit': u'PPB'}, {u'Category': 0, u'UTC': u'2016-02-11T19:00', u'AgencyName': u'North Coast Unified Air Quality Management District', u'SiteName': u'Jacobs', u'AQI': -999, u'Value': 0.39, u'FullAQSCode': u'060231004', u'Longitude': -124.177498, u'Latitude': 40.776943, u'IntlAQSCode': u'840060231004', u'Parameter': u'CO', u'Unit': u'PPM'}, {u'Category': 1, u'UTC': u'2016-02-11T19:00', u'AgencyName': u'Shasta County Air Quality Management District', u'SiteName': u'Shasta Lake City', u'AQI': 26, u'Value': 28.0, u'FullAQSCode': u'060890009', u'Longitude': -122.4024, u'Latitude': 40.6894, u'IntlAQSCode': u'840060890009', u'Parameter': u'OZONE', u'Unit': u'PPB'}, {u'Category': 1, u'UTC': u'2016-02-11T19:00', u'AgencyName': u'Shasta County Air Quality Management District', u'SiteName': u'Redding', u'AQI': 20, u'Value': 22.0, u'FullAQSCode': u'060890004', u'Longitude': -122.3792, u'Latitude': 40.5497, u'IntlAQSCode': u'840060890004', u'Parameter': u'OZONE', u'Unit': u'PPB'}, {u'Category': 2, u'UTC': u'2016-02-11T19:00', u'AgencyName': u'Shasta County Air Quality Management District', u'SiteName': u'Anderson', u'AQI': 82, u'Value': 26.8, u'FullAQSCode': u'060890007', u'Longitude': -122.2978, u'Latitude': 40.4531, u'IntlAQSCode': u'840060890007', u'Parameter': u'PM2.5', u'Unit': u'UG/M3'}, {u'Category': 1, u'UTC': u'2016-02-11T19:00', u'AgencyName': u'Shasta County Air Quality Management District', u'SiteName': u'Anderson', u'AQI': 5, u'Value': 5.0, u'FullAQSCode': u'060890007', u'Longitude': -122.2978, u'Latitude': 40.4531, u'IntlAQSCode': u'840060890007', u'Parameter': u'OZONE', u'Unit': u'PPB'}, {u'Category': 1, u'UTC': u'2016-02-11T19:00', u'AgencyName': u'Tehama County Air Pollution Control District', u'SiteName': u'Red Bluff - Walnut office', u'AQI': 37, u'Value': 8.8, u'FullAQSCode': u'061030007', u'Longitude': -122.255667, u'Latitude': 40.170917, u'IntlAQSCode': u'840061030007', u'Parameter': u'PM2.5', u'Unit': u'UG/M3'}, {u'Category': 1, u'UTC': u'2016-02-11T19:00', u'AgencyName': u'Tehama County Air Pollution Control District', u'SiteName': u'Red Bluff - Walnut office', u'AQI': 15, u'Value': 16.0, u'FullAQSCode': u'061030007', u'Longitude': -122.255667, u'Latitude': 40.170917, u'IntlAQSCode': u'840061030007', u'Parameter': u'OZONE', u'Unit': u'PPB'}, {u'Category': 1, u'UTC': u'2016-02-11T19:00', u'AgencyName': u'California Air Resources Board', u'SiteName': u'Willows-Colusa', u'AQI': 19, u'Value': 21.0, u'FullAQSCode': u'060210003', u'Longitude': -122.190833, u'Latitude': 39.533889, u'IntlAQSCode': u'840060210003', u'Parameter': u'PM10', u'Unit': u'UG/M3'}]\n"
     ]
    }
   ],
   "source": [
    "#Current observations by monitoring site\n",
    "#Returns latitude/longitude of the site. UTC time. Parameter names/values/AQI.\n",
    "#Pollutants reported at the sites vary, so you need to smart parse the json repsonse to get everything.\n",
    "\n",
    "data = requests.get(\"http://www.airnowapi.org/aq/data/?startDate=2016-02-11T18&endDate=2016-02-11T19&parameters=O3,PM25,PM10,CO,NO2,SO2&BBOX=-124.559937,39.459253,-122.098999,40.803150&dataType=B&format=application/json&verbose=1&API_KEY=6B775717-4A4F-46C1-A781-04A531D11793\")\n",
    "data_json = data.json()\n",
    "print data_json"
   ]
  },
  {
   "cell_type": "code",
   "execution_count": 15,
   "metadata": {
    "collapsed": false
   },
   "outputs": [
    {
     "name": "stdout",
     "output_type": "stream",
     "text": [
      "2.0\n",
      "2\n"
     ]
    }
   ],
   "source": [
    "print data_json[0]['Value']\n",
    "print data_json[0]['AQI']"
   ]
  },
  {
   "cell_type": "code",
   "execution_count": null,
   "metadata": {
    "collapsed": true
   },
   "outputs": [],
   "source": [
    "#Current observations by monitoring site\n",
    "data = requests.get(\"http://www.airnowapi.org/aq/data/?startDate=2016-02-11T18&endDate=2016-02-11T19&parameters=O3,PM25,PM10,CO,NO2,SO2&BBOX=-124.559937,39.459253,-122.098999,40.803150&dataType=B&format=application/json&verbose=1&API_KEY=6B775717-4A4F-46C1-A781-04A531D11793\")\n",
    "data_json = data.json()\n",
    "print data_json"
   ]
  }
 ],
 "metadata": {
  "kernelspec": {
   "display_name": "Python 2",
   "language": "python",
   "name": "python2"
  },
  "language_info": {
   "codemirror_mode": {
    "name": "ipython",
    "version": 2
   },
   "file_extension": ".py",
   "mimetype": "text/x-python",
   "name": "python",
   "nbconvert_exporter": "python",
   "pygments_lexer": "ipython2",
   "version": "2.7.11"
  }
 },
 "nbformat": 4,
 "nbformat_minor": 0
}
